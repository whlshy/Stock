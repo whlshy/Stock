{
 "cells": [
  {
   "cell_type": "markdown",
   "metadata": {},
   "source": [
    "# Goodinfo 策略回測\n",
    "\n",
    "- 查詢策略\n",
    "- 記錄日期並分類存入 DataBase"
   ]
  },
  {
   "cell_type": "code",
   "execution_count": 1,
   "metadata": {},
   "outputs": [],
   "source": [
    "from stock_fuction import *\n",
    "from datetime import datetime, timedelta\n",
    "import requests"
   ]
  },
  {
   "cell_type": "code",
   "execution_count": 17,
   "metadata": {},
   "outputs": [],
   "source": [
    "date_str = \"20250212\"\n",
    "insert_stock_to_db(date_str)"
   ]
  },
  {
   "cell_type": "code",
   "execution_count": 13,
   "metadata": {},
   "outputs": [],
   "source": [
    "def notify_discord_webhook(msg):\n",
    "\turl = 'https://discord.com/api/webhooks/1337682892565774418/UY9lg-YV47mYTjKBO1POOiai72raTrfOpfL7svkC1khEwpszToNN5b13OAK0jZIDc4oK'\n",
    "\theaders = {\"Content-Type\": \"application/json\"}\n",
    "\tdata = {\"content\": msg, \"username\": \"newmanBot\"}\n",
    "\tres = requests.post(url, headers = headers, json = data) \n",
    "\tif res.status_code in (200, 204):\n",
    "\t\treturn True\n",
    "\telse:\n",
    "\t\tprint(f\"Request failed with response: {res.status_code}-{res.text}\")\n",
    "\t\treturn False"
   ]
  },
  {
   "cell_type": "code",
   "execution_count": 4,
   "metadata": {},
   "outputs": [
    {
     "name": "stdout",
     "output_type": "stream",
     "text": [
      "Request fulfilled with response: \n"
     ]
    }
   ],
   "source": [
    "notify_discord_webhook(\"測試\")"
   ]
  },
  {
   "cell_type": "code",
   "execution_count": null,
   "metadata": {},
   "outputs": [],
   "source": [
    "cnxn, cursor = connet_to_db()\n",
    "\n",
    "send_text = f\"低本益比 + 低股價淨值比 + 穩定股利 + 交易量大於1000張 (Code, 名稱, 產業, 上市/上櫃, 收盤價, 交易量, PE, 股價淨值比, 殖利率)：\\n\"\n",
    "\n",
    "send_sql = \"\"\"\n",
    "SELECT STRING_AGG('(' + Code + ', ' + Name + ', ' + Industry + ', ' + Market + ', ' +\n",
    "CAST(ClosingPrice AS NVARCHAR) + ', ' + CAST([Transaction] AS NVARCHAR) + ', ' + CAST(PE AS NVARCHAR) + ', ' + \n",
    "CAST(股價淨值比 AS NVARCHAR) + ', ' + CAST(殖利率 AS NVARCHAR) + ')', ',\\n') WITHIN GROUP (ORDER BY PE ASC, 殖利率 DESC) AS result\n",
    "FROM vd_StockDayInfo\n",
    "WHERE Date = (SELECT TOP 1 Date FROM vd_StockDayInfo ORDER BY Date DESC) \n",
    "        AND PE < 15 \n",
    "        AND 殖利率 > 5 \n",
    "        AND [Transaction] > 1000\n",
    "\"\"\"\n",
    "\n",
    "cursor.execute(send_sql)\n",
    "result = cursor.fetchone()\n",
    "\n",
    "send_text += result[0]\n",
    "\n",
    "notify_discord_webhook(send_text)\n",
    "\n",
    "close_db_connection(cnxn, cursor)"
   ]
  },
  {
   "cell_type": "code",
   "execution_count": null,
   "metadata": {},
   "outputs": [],
   "source": []
  }
 ],
 "metadata": {
  "kernelspec": {
   "display_name": "Python 3",
   "language": "python",
   "name": "python3"
  },
  "language_info": {
   "codemirror_mode": {
    "name": "ipython",
    "version": 3
   },
   "file_extension": ".py",
   "mimetype": "text/x-python",
   "name": "python",
   "nbconvert_exporter": "python",
   "pygments_lexer": "ipython3",
   "version": "3.12.8"
  }
 },
 "nbformat": 4,
 "nbformat_minor": 2
}
