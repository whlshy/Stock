{
 "cells": [
  {
   "cell_type": "markdown",
   "metadata": {},
   "source": [
    "# Goodinfo 策略回測\n",
    "\n",
    "- 查詢策略\n",
    "- 記錄日期並分類存入 DataBase"
   ]
  },
  {
   "cell_type": "code",
   "execution_count": 1,
   "metadata": {},
   "outputs": [],
   "source": [
    "from stock_fuction import *\n",
    "from datetime import datetime, timedelta"
   ]
  },
  {
   "cell_type": "code",
   "execution_count": null,
   "metadata": {},
   "outputs": [],
   "source": [
    "def get_custom_date():\n",
    "    now = datetime.now()\n",
    "\n",
    "    # 獲取當前的星期幾和時間（24小時制）\n",
    "    weekday = now.weekday()  # 星期一是0，星期日是6\n",
    "    hour = now.hour\n",
    "\n",
    "    # 定義星期五的日期\n",
    "    last_friday = now - timedelta(days=(weekday - 4 if weekday >= 5 else 7 + weekday - 4))\n",
    "\n",
    "    # 如果是星期六8點後到星期二8點前，返回星期五的日期\n",
    "    if (weekday == 5 and hour >= 8) or (weekday in [6, 0] or (weekday == 1 and hour < 8)):\n",
    "        custom_date = last_friday\n",
    "    elif hour >= 8:\n",
    "        # 其他日子8點後，返回昨天的日期\n",
    "        custom_date = now - timedelta(days=1)\n",
    "    else:\n",
    "        # 其他日子8點前，返回前天的日期\n",
    "        custom_date = now - timedelta(days=2)\n",
    "\n",
    "    return custom_date.strftime('%Y-%m-%d')"
   ]
  },
  {
   "cell_type": "code",
   "execution_count": null,
   "metadata": {},
   "outputs": [],
   "source": [
    "date_str = \"20250123\"\n",
    "\n",
    "insert_stock_to_db(date_str)"
   ]
  },
  {
   "cell_type": "code",
   "execution_count": null,
   "metadata": {},
   "outputs": [],
   "source": []
  }
 ],
 "metadata": {
  "kernelspec": {
   "display_name": "Python 3",
   "language": "python",
   "name": "python3"
  },
  "language_info": {
   "codemirror_mode": {
    "name": "ipython",
    "version": 3
   },
   "file_extension": ".py",
   "mimetype": "text/x-python",
   "name": "python",
   "nbconvert_exporter": "python",
   "pygments_lexer": "ipython3",
   "version": "3.12.8"
  }
 },
 "nbformat": 4,
 "nbformat_minor": 2
}
